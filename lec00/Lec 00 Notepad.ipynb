{
 "cells": [
  {
   "cell_type": "code",
   "execution_count": 42,
   "metadata": {},
   "outputs": [],
   "source": [
    "import scipy.io as sio\n",
    "import pandas as pd\n",
    "import numpy as np\n",
    "import matplotlib.pyplot as plt\n",
    "import seaborn as sns\n",
    "import scipy.stats as ss\n",
    "from wordcloud import WordCloud, STOPWORDS, ImageColorGenerator\n",
    "%matplotlib inline"
   ]
  },
  {
   "cell_type": "code",
   "execution_count": 2,
   "metadata": {},
   "outputs": [],
   "source": [
    "pd.set_option('display.max_columns', 300)\n",
    "pd.set_option('display.max_rows', None)"
   ]
  },
  {
   "cell_type": "markdown",
   "metadata": {},
   "source": [
    "# Import csv file"
   ]
  },
  {
   "cell_type": "code",
   "execution_count": 3,
   "metadata": {},
   "outputs": [],
   "source": [
    "data = pd.read_csv('data/Programming.csv')"
   ]
  },
  {
   "cell_type": "markdown",
   "metadata": {},
   "source": [
    "# Inspect data file"
   ]
  },
  {
   "cell_type": "code",
   "execution_count": 4,
   "metadata": {},
   "outputs": [
    {
     "data": {
      "text/html": [
       "<div>\n",
       "<style scoped>\n",
       "    .dataframe tbody tr th:only-of-type {\n",
       "        vertical-align: middle;\n",
       "    }\n",
       "\n",
       "    .dataframe tbody tr th {\n",
       "        vertical-align: top;\n",
       "    }\n",
       "\n",
       "    .dataframe thead th {\n",
       "        text-align: right;\n",
       "    }\n",
       "</style>\n",
       "<table border=\"1\" class=\"dataframe\">\n",
       "  <thead>\n",
       "    <tr style=\"text-align: right;\">\n",
       "      <th></th>\n",
       "      <th>StartDate</th>\n",
       "      <th>EndDate</th>\n",
       "      <th>Status</th>\n",
       "      <th>IPAddress</th>\n",
       "      <th>Progress</th>\n",
       "      <th>Duration (in seconds)</th>\n",
       "      <th>Finished</th>\n",
       "      <th>RecordedDate</th>\n",
       "      <th>ResponseId</th>\n",
       "      <th>RecipientLastName</th>\n",
       "      <th>RecipientFirstName</th>\n",
       "      <th>RecipientEmail</th>\n",
       "      <th>ExternalReference</th>\n",
       "      <th>LocationLatitude</th>\n",
       "      <th>LocationLongitude</th>\n",
       "      <th>DistributionChannel</th>\n",
       "      <th>UserLanguage</th>\n",
       "      <th>Q5</th>\n",
       "      <th>Q6</th>\n",
       "      <th>Q6_5_TEXT</th>\n",
       "      <th>Q7</th>\n",
       "      <th>Q1</th>\n",
       "      <th>Q2</th>\n",
       "      <th>Q3</th>\n",
       "      <th>Q4</th>\n",
       "      <th>Q8</th>\n",
       "      <th>Q9</th>\n",
       "      <th>Q10</th>\n",
       "      <th>Q11</th>\n",
       "    </tr>\n",
       "  </thead>\n",
       "  <tbody>\n",
       "    <tr>\n",
       "      <td>0</td>\n",
       "      <td>Start Date</td>\n",
       "      <td>End Date</td>\n",
       "      <td>Response Type</td>\n",
       "      <td>IP Address</td>\n",
       "      <td>Progress</td>\n",
       "      <td>Duration (in seconds)</td>\n",
       "      <td>Finished</td>\n",
       "      <td>Recorded Date</td>\n",
       "      <td>Response ID</td>\n",
       "      <td>Recipient Last Name</td>\n",
       "      <td>Recipient First Name</td>\n",
       "      <td>Recipient Email</td>\n",
       "      <td>External Data Reference</td>\n",
       "      <td>Location Latitude</td>\n",
       "      <td>Location Longitude</td>\n",
       "      <td>Distribution Channel</td>\n",
       "      <td>User Language</td>\n",
       "      <td>What is your name?</td>\n",
       "      <td>What year are you? - Selected Choice</td>\n",
       "      <td>What year are you? - Other - Text</td>\n",
       "      <td>What is/are your major(s)?</td>\n",
       "      <td>Do you have experience coding?</td>\n",
       "      <td>What level would you consider yourself to be at?</td>\n",
       "      <td>What programming languages do you have experie...</td>\n",
       "      <td>What other?</td>\n",
       "      <td>What type of data have you worked with?</td>\n",
       "      <td>Have you taken a statistics class?</td>\n",
       "      <td>What statistic topics are you comfortable with?</td>\n",
       "      <td>Do you enjoy statistics?</td>\n",
       "    </tr>\n",
       "    <tr>\n",
       "      <td>1</td>\n",
       "      <td>{\"ImportId\":\"startDate\",\"timeZone\":\"America/De...</td>\n",
       "      <td>{\"ImportId\":\"endDate\",\"timeZone\":\"America/Denv...</td>\n",
       "      <td>{\"ImportId\":\"status\"}</td>\n",
       "      <td>{\"ImportId\":\"ipAddress\"}</td>\n",
       "      <td>{\"ImportId\":\"progress\"}</td>\n",
       "      <td>{\"ImportId\":\"duration\"}</td>\n",
       "      <td>{\"ImportId\":\"finished\"}</td>\n",
       "      <td>{\"ImportId\":\"recordedDate\",\"timeZone\":\"America...</td>\n",
       "      <td>{\"ImportId\":\"_recordId\"}</td>\n",
       "      <td>{\"ImportId\":\"recipientLastName\"}</td>\n",
       "      <td>{\"ImportId\":\"recipientFirstName\"}</td>\n",
       "      <td>{\"ImportId\":\"recipientEmail\"}</td>\n",
       "      <td>{\"ImportId\":\"externalDataReference\"}</td>\n",
       "      <td>{\"ImportId\":\"locationLatitude\"}</td>\n",
       "      <td>{\"ImportId\":\"locationLongitude\"}</td>\n",
       "      <td>{\"ImportId\":\"distributionChannel\"}</td>\n",
       "      <td>{\"ImportId\":\"userLanguage\"}</td>\n",
       "      <td>{\"ImportId\":\"QID5_TEXT\"}</td>\n",
       "      <td>{\"ImportId\":\"QID6\"}</td>\n",
       "      <td>{\"ImportId\":\"QID6_5_TEXT\"}</td>\n",
       "      <td>{\"ImportId\":\"QID7_TEXT\"}</td>\n",
       "      <td>{\"ImportId\":\"QID1\"}</td>\n",
       "      <td>{\"ImportId\":\"QID2\"}</td>\n",
       "      <td>{\"ImportId\":\"QID3\"}</td>\n",
       "      <td>{\"ImportId\":\"QID4_TEXT\"}</td>\n",
       "      <td>{\"ImportId\":\"QID8\"}</td>\n",
       "      <td>{\"ImportId\":\"QID9\"}</td>\n",
       "      <td>{\"ImportId\":\"QID10\"}</td>\n",
       "      <td>{\"ImportId\":\"QID11\"}</td>\n",
       "    </tr>\n",
       "    <tr>\n",
       "      <td>2</td>\n",
       "      <td>2020-02-06 13:19:28</td>\n",
       "      <td>2020-02-06 13:19:44</td>\n",
       "      <td>Survey Preview</td>\n",
       "      <td>NaN</td>\n",
       "      <td>100</td>\n",
       "      <td>16</td>\n",
       "      <td>True</td>\n",
       "      <td>2020-02-06 13:19:45</td>\n",
       "      <td>R_3ozSGSMIhOmzrvu</td>\n",
       "      <td>NaN</td>\n",
       "      <td>NaN</td>\n",
       "      <td>NaN</td>\n",
       "      <td>NaN</td>\n",
       "      <td>41.318603515625</td>\n",
       "      <td>-72.93019866943359375</td>\n",
       "      <td>preview</td>\n",
       "      <td>EN</td>\n",
       "      <td>NaN</td>\n",
       "      <td>NaN</td>\n",
       "      <td>NaN</td>\n",
       "      <td>NaN</td>\n",
       "      <td>NaN</td>\n",
       "      <td>NaN</td>\n",
       "      <td>NaN</td>\n",
       "      <td>NaN</td>\n",
       "      <td>NaN</td>\n",
       "      <td>NaN</td>\n",
       "      <td>NaN</td>\n",
       "      <td>NaN</td>\n",
       "    </tr>\n",
       "    <tr>\n",
       "      <td>3</td>\n",
       "      <td>2020-02-06 13:38:05</td>\n",
       "      <td>2020-02-06 13:39:05</td>\n",
       "      <td>IP Address</td>\n",
       "      <td>130.132.173.44</td>\n",
       "      <td>100</td>\n",
       "      <td>59</td>\n",
       "      <td>True</td>\n",
       "      <td>2020-02-06 13:39:06</td>\n",
       "      <td>R_3GBOYl0daTGFwQU</td>\n",
       "      <td>NaN</td>\n",
       "      <td>NaN</td>\n",
       "      <td>NaN</td>\n",
       "      <td>NaN</td>\n",
       "      <td>41.318603515625</td>\n",
       "      <td>-72.93019866943359375</td>\n",
       "      <td>anonymous</td>\n",
       "      <td>EN</td>\n",
       "      <td>Stephanie</td>\n",
       "      <td>Junior</td>\n",
       "      <td>NaN</td>\n",
       "      <td>Neuroscience &amp; History of Science, Medicine &amp; ...</td>\n",
       "      <td>Yes</td>\n",
       "      <td>Novice</td>\n",
       "      <td>Python,SPSS</td>\n",
       "      <td>NaN</td>\n",
       "      <td>Questionnaires</td>\n",
       "      <td>Yes</td>\n",
       "      <td>Descriptive Statistics</td>\n",
       "      <td>I like it.</td>\n",
       "    </tr>\n",
       "    <tr>\n",
       "      <td>4</td>\n",
       "      <td>2020-02-06 13:38:26</td>\n",
       "      <td>2020-02-06 13:39:08</td>\n",
       "      <td>IP Address</td>\n",
       "      <td>130.132.173.82</td>\n",
       "      <td>100</td>\n",
       "      <td>42</td>\n",
       "      <td>True</td>\n",
       "      <td>2020-02-06 13:39:09</td>\n",
       "      <td>R_1QnG4SAejqWvSGf</td>\n",
       "      <td>NaN</td>\n",
       "      <td>NaN</td>\n",
       "      <td>NaN</td>\n",
       "      <td>NaN</td>\n",
       "      <td>41.318603515625</td>\n",
       "      <td>-72.93019866943359375</td>\n",
       "      <td>anonymous</td>\n",
       "      <td>EN</td>\n",
       "      <td>Doyoung</td>\n",
       "      <td>Sophomore</td>\n",
       "      <td>NaN</td>\n",
       "      <td>Neuroscience, English</td>\n",
       "      <td>No</td>\n",
       "      <td>NaN</td>\n",
       "      <td>Python</td>\n",
       "      <td>NaN</td>\n",
       "      <td>Text</td>\n",
       "      <td>Yes</td>\n",
       "      <td>Probability</td>\n",
       "      <td>I like it.</td>\n",
       "    </tr>\n",
       "    <tr>\n",
       "      <td>5</td>\n",
       "      <td>2020-02-06 13:40:52</td>\n",
       "      <td>2020-02-06 13:41:33</td>\n",
       "      <td>IP Address</td>\n",
       "      <td>130.132.173.75</td>\n",
       "      <td>100</td>\n",
       "      <td>40</td>\n",
       "      <td>True</td>\n",
       "      <td>2020-02-06 13:41:33</td>\n",
       "      <td>R_2dM8BXfy2OculeN</td>\n",
       "      <td>NaN</td>\n",
       "      <td>NaN</td>\n",
       "      <td>NaN</td>\n",
       "      <td>NaN</td>\n",
       "      <td>41.318603515625</td>\n",
       "      <td>-72.93019866943359375</td>\n",
       "      <td>anonymous</td>\n",
       "      <td>EN</td>\n",
       "      <td>sophie shang</td>\n",
       "      <td>Other</td>\n",
       "      <td>master</td>\n",
       "      <td>psychology</td>\n",
       "      <td>Yes</td>\n",
       "      <td>Intermediate</td>\n",
       "      <td>Python,R,Matlab,Java</td>\n",
       "      <td>NaN</td>\n",
       "      <td>Reaction time,Text,Behavioral,Questionnaires</td>\n",
       "      <td>Yes</td>\n",
       "      <td>Probability,Descriptive Statistics,Normal Dist...</td>\n",
       "      <td>I like it.</td>\n",
       "    </tr>\n",
       "    <tr>\n",
       "      <td>6</td>\n",
       "      <td>2020-02-06 13:43:12</td>\n",
       "      <td>2020-02-06 13:44:48</td>\n",
       "      <td>IP Address</td>\n",
       "      <td>130.132.173.155</td>\n",
       "      <td>100</td>\n",
       "      <td>95</td>\n",
       "      <td>True</td>\n",
       "      <td>2020-02-06 13:44:48</td>\n",
       "      <td>R_3rNBP6FUjmKp6bM</td>\n",
       "      <td>NaN</td>\n",
       "      <td>NaN</td>\n",
       "      <td>NaN</td>\n",
       "      <td>NaN</td>\n",
       "      <td>41.318603515625</td>\n",
       "      <td>-72.93019866943359375</td>\n",
       "      <td>anonymous</td>\n",
       "      <td>EN</td>\n",
       "      <td>Amanda Ivatorov</td>\n",
       "      <td>Freshman</td>\n",
       "      <td>NaN</td>\n",
       "      <td>Neuroscience</td>\n",
       "      <td>No</td>\n",
       "      <td>NaN</td>\n",
       "      <td>NaN</td>\n",
       "      <td>NaN</td>\n",
       "      <td>Text,Behavioral,Questionnaires</td>\n",
       "      <td>Yes</td>\n",
       "      <td>Normal Distribution,Confidence Interval,Hypoth...</td>\n",
       "      <td>I like it.</td>\n",
       "    </tr>\n",
       "    <tr>\n",
       "      <td>7</td>\n",
       "      <td>2020-02-06 13:44:32</td>\n",
       "      <td>2020-02-06 13:46:27</td>\n",
       "      <td>IP Address</td>\n",
       "      <td>130.132.173.220</td>\n",
       "      <td>100</td>\n",
       "      <td>114</td>\n",
       "      <td>True</td>\n",
       "      <td>2020-02-06 13:46:27</td>\n",
       "      <td>R_1CrWDPsnGA8Vmol</td>\n",
       "      <td>NaN</td>\n",
       "      <td>NaN</td>\n",
       "      <td>NaN</td>\n",
       "      <td>NaN</td>\n",
       "      <td>41.318603515625</td>\n",
       "      <td>-72.93019866943359375</td>\n",
       "      <td>anonymous</td>\n",
       "      <td>EN</td>\n",
       "      <td>Italia Hanik</td>\n",
       "      <td>Other</td>\n",
       "      <td>RA</td>\n",
       "      <td>NaN</td>\n",
       "      <td>Yes</td>\n",
       "      <td>Ninja</td>\n",
       "      <td>Python,R,SPSS</td>\n",
       "      <td>NaN</td>\n",
       "      <td>Reaction time,Text,Behavioral,Questionnaires</td>\n",
       "      <td>Yes</td>\n",
       "      <td>Probability,Descriptive Statistics,Normal Dist...</td>\n",
       "      <td>Hell yeah!</td>\n",
       "    </tr>\n",
       "    <tr>\n",
       "      <td>8</td>\n",
       "      <td>2020-02-06 14:08:25</td>\n",
       "      <td>2020-02-06 14:09:13</td>\n",
       "      <td>IP Address</td>\n",
       "      <td>130.132.173.43</td>\n",
       "      <td>100</td>\n",
       "      <td>48</td>\n",
       "      <td>True</td>\n",
       "      <td>2020-02-06 14:09:14</td>\n",
       "      <td>R_1ILSawGZV29MdH5</td>\n",
       "      <td>NaN</td>\n",
       "      <td>NaN</td>\n",
       "      <td>NaN</td>\n",
       "      <td>NaN</td>\n",
       "      <td>41.318603515625</td>\n",
       "      <td>-72.93019866943359375</td>\n",
       "      <td>anonymous</td>\n",
       "      <td>EN</td>\n",
       "      <td>Taylor</td>\n",
       "      <td>Junior</td>\n",
       "      <td>NaN</td>\n",
       "      <td>Psychology</td>\n",
       "      <td>No</td>\n",
       "      <td>NaN</td>\n",
       "      <td>NaN</td>\n",
       "      <td>NaN</td>\n",
       "      <td>Behavioral,Questionnaires</td>\n",
       "      <td>Yes</td>\n",
       "      <td>Descriptive Statistics,Normal Distribution</td>\n",
       "      <td>Hell yeah!</td>\n",
       "    </tr>\n",
       "    <tr>\n",
       "      <td>9</td>\n",
       "      <td>2020-02-06 15:15:17</td>\n",
       "      <td>2020-02-06 15:15:59</td>\n",
       "      <td>IP Address</td>\n",
       "      <td>130.132.173.142</td>\n",
       "      <td>100</td>\n",
       "      <td>42</td>\n",
       "      <td>True</td>\n",
       "      <td>2020-02-06 15:16:00</td>\n",
       "      <td>R_1LvvI7NCC0SUfWK</td>\n",
       "      <td>NaN</td>\n",
       "      <td>NaN</td>\n",
       "      <td>NaN</td>\n",
       "      <td>NaN</td>\n",
       "      <td>41.318603515625</td>\n",
       "      <td>-72.93019866943359375</td>\n",
       "      <td>anonymous</td>\n",
       "      <td>EN</td>\n",
       "      <td>Geraldine</td>\n",
       "      <td>Freshman</td>\n",
       "      <td>NaN</td>\n",
       "      <td>Psychology</td>\n",
       "      <td>No</td>\n",
       "      <td>NaN</td>\n",
       "      <td>NaN</td>\n",
       "      <td>NaN</td>\n",
       "      <td>NaN</td>\n",
       "      <td>No</td>\n",
       "      <td>NaN</td>\n",
       "      <td>Don't care.</td>\n",
       "    </tr>\n",
       "  </tbody>\n",
       "</table>\n",
       "</div>"
      ],
      "text/plain": [
       "                                           StartDate  \\\n",
       "0                                         Start Date   \n",
       "1  {\"ImportId\":\"startDate\",\"timeZone\":\"America/De...   \n",
       "2                                2020-02-06 13:19:28   \n",
       "3                                2020-02-06 13:38:05   \n",
       "4                                2020-02-06 13:38:26   \n",
       "5                                2020-02-06 13:40:52   \n",
       "6                                2020-02-06 13:43:12   \n",
       "7                                2020-02-06 13:44:32   \n",
       "8                                2020-02-06 14:08:25   \n",
       "9                                2020-02-06 15:15:17   \n",
       "\n",
       "                                             EndDate                 Status  \\\n",
       "0                                           End Date          Response Type   \n",
       "1  {\"ImportId\":\"endDate\",\"timeZone\":\"America/Denv...  {\"ImportId\":\"status\"}   \n",
       "2                                2020-02-06 13:19:44         Survey Preview   \n",
       "3                                2020-02-06 13:39:05             IP Address   \n",
       "4                                2020-02-06 13:39:08             IP Address   \n",
       "5                                2020-02-06 13:41:33             IP Address   \n",
       "6                                2020-02-06 13:44:48             IP Address   \n",
       "7                                2020-02-06 13:46:27             IP Address   \n",
       "8                                2020-02-06 14:09:13             IP Address   \n",
       "9                                2020-02-06 15:15:59             IP Address   \n",
       "\n",
       "                  IPAddress                 Progress    Duration (in seconds)  \\\n",
       "0                IP Address                 Progress    Duration (in seconds)   \n",
       "1  {\"ImportId\":\"ipAddress\"}  {\"ImportId\":\"progress\"}  {\"ImportId\":\"duration\"}   \n",
       "2                       NaN                      100                       16   \n",
       "3            130.132.173.44                      100                       59   \n",
       "4            130.132.173.82                      100                       42   \n",
       "5            130.132.173.75                      100                       40   \n",
       "6           130.132.173.155                      100                       95   \n",
       "7           130.132.173.220                      100                      114   \n",
       "8            130.132.173.43                      100                       48   \n",
       "9           130.132.173.142                      100                       42   \n",
       "\n",
       "                  Finished                                       RecordedDate  \\\n",
       "0                 Finished                                      Recorded Date   \n",
       "1  {\"ImportId\":\"finished\"}  {\"ImportId\":\"recordedDate\",\"timeZone\":\"America...   \n",
       "2                     True                                2020-02-06 13:19:45   \n",
       "3                     True                                2020-02-06 13:39:06   \n",
       "4                     True                                2020-02-06 13:39:09   \n",
       "5                     True                                2020-02-06 13:41:33   \n",
       "6                     True                                2020-02-06 13:44:48   \n",
       "7                     True                                2020-02-06 13:46:27   \n",
       "8                     True                                2020-02-06 14:09:14   \n",
       "9                     True                                2020-02-06 15:16:00   \n",
       "\n",
       "                 ResponseId                 RecipientLastName  \\\n",
       "0               Response ID               Recipient Last Name   \n",
       "1  {\"ImportId\":\"_recordId\"}  {\"ImportId\":\"recipientLastName\"}   \n",
       "2         R_3ozSGSMIhOmzrvu                               NaN   \n",
       "3         R_3GBOYl0daTGFwQU                               NaN   \n",
       "4         R_1QnG4SAejqWvSGf                               NaN   \n",
       "5         R_2dM8BXfy2OculeN                               NaN   \n",
       "6         R_3rNBP6FUjmKp6bM                               NaN   \n",
       "7         R_1CrWDPsnGA8Vmol                               NaN   \n",
       "8         R_1ILSawGZV29MdH5                               NaN   \n",
       "9         R_1LvvI7NCC0SUfWK                               NaN   \n",
       "\n",
       "                  RecipientFirstName                 RecipientEmail  \\\n",
       "0               Recipient First Name                Recipient Email   \n",
       "1  {\"ImportId\":\"recipientFirstName\"}  {\"ImportId\":\"recipientEmail\"}   \n",
       "2                                NaN                            NaN   \n",
       "3                                NaN                            NaN   \n",
       "4                                NaN                            NaN   \n",
       "5                                NaN                            NaN   \n",
       "6                                NaN                            NaN   \n",
       "7                                NaN                            NaN   \n",
       "8                                NaN                            NaN   \n",
       "9                                NaN                            NaN   \n",
       "\n",
       "                      ExternalReference                 LocationLatitude  \\\n",
       "0               External Data Reference                Location Latitude   \n",
       "1  {\"ImportId\":\"externalDataReference\"}  {\"ImportId\":\"locationLatitude\"}   \n",
       "2                                   NaN                  41.318603515625   \n",
       "3                                   NaN                  41.318603515625   \n",
       "4                                   NaN                  41.318603515625   \n",
       "5                                   NaN                  41.318603515625   \n",
       "6                                   NaN                  41.318603515625   \n",
       "7                                   NaN                  41.318603515625   \n",
       "8                                   NaN                  41.318603515625   \n",
       "9                                   NaN                  41.318603515625   \n",
       "\n",
       "                  LocationLongitude                 DistributionChannel  \\\n",
       "0                Location Longitude                Distribution Channel   \n",
       "1  {\"ImportId\":\"locationLongitude\"}  {\"ImportId\":\"distributionChannel\"}   \n",
       "2             -72.93019866943359375                             preview   \n",
       "3             -72.93019866943359375                           anonymous   \n",
       "4             -72.93019866943359375                           anonymous   \n",
       "5             -72.93019866943359375                           anonymous   \n",
       "6             -72.93019866943359375                           anonymous   \n",
       "7             -72.93019866943359375                           anonymous   \n",
       "8             -72.93019866943359375                           anonymous   \n",
       "9             -72.93019866943359375                           anonymous   \n",
       "\n",
       "                  UserLanguage                        Q5  \\\n",
       "0                User Language        What is your name?   \n",
       "1  {\"ImportId\":\"userLanguage\"}  {\"ImportId\":\"QID5_TEXT\"}   \n",
       "2                           EN                       NaN   \n",
       "3                           EN                 Stephanie   \n",
       "4                           EN                   Doyoung   \n",
       "5                           EN              sophie shang   \n",
       "6                           EN           Amanda Ivatorov   \n",
       "7                           EN              Italia Hanik   \n",
       "8                           EN                    Taylor   \n",
       "9                           EN                Geraldine    \n",
       "\n",
       "                                     Q6                          Q6_5_TEXT  \\\n",
       "0  What year are you? - Selected Choice  What year are you? - Other - Text   \n",
       "1                   {\"ImportId\":\"QID6\"}         {\"ImportId\":\"QID6_5_TEXT\"}   \n",
       "2                                   NaN                                NaN   \n",
       "3                                Junior                                NaN   \n",
       "4                             Sophomore                                NaN   \n",
       "5                                 Other                             master   \n",
       "6                              Freshman                                NaN   \n",
       "7                                 Other                                 RA   \n",
       "8                                Junior                                NaN   \n",
       "9                              Freshman                                NaN   \n",
       "\n",
       "                                                  Q7  \\\n",
       "0                         What is/are your major(s)?   \n",
       "1                           {\"ImportId\":\"QID7_TEXT\"}   \n",
       "2                                                NaN   \n",
       "3  Neuroscience & History of Science, Medicine & ...   \n",
       "4                              Neuroscience, English   \n",
       "5                                         psychology   \n",
       "6                                       Neuroscience   \n",
       "7                                                NaN   \n",
       "8                                        Psychology    \n",
       "9                                         Psychology   \n",
       "\n",
       "                               Q1  \\\n",
       "0  Do you have experience coding?   \n",
       "1             {\"ImportId\":\"QID1\"}   \n",
       "2                             NaN   \n",
       "3                             Yes   \n",
       "4                              No   \n",
       "5                             Yes   \n",
       "6                              No   \n",
       "7                             Yes   \n",
       "8                              No   \n",
       "9                              No   \n",
       "\n",
       "                                                 Q2  \\\n",
       "0  What level would you consider yourself to be at?   \n",
       "1                               {\"ImportId\":\"QID2\"}   \n",
       "2                                               NaN   \n",
       "3                                            Novice   \n",
       "4                                               NaN   \n",
       "5                                      Intermediate   \n",
       "6                                               NaN   \n",
       "7                                             Ninja   \n",
       "8                                               NaN   \n",
       "9                                               NaN   \n",
       "\n",
       "                                                  Q3  \\\n",
       "0  What programming languages do you have experie...   \n",
       "1                                {\"ImportId\":\"QID3\"}   \n",
       "2                                                NaN   \n",
       "3                                        Python,SPSS   \n",
       "4                                             Python   \n",
       "5                               Python,R,Matlab,Java   \n",
       "6                                                NaN   \n",
       "7                                      Python,R,SPSS   \n",
       "8                                                NaN   \n",
       "9                                                NaN   \n",
       "\n",
       "                         Q4                                            Q8  \\\n",
       "0               What other?       What type of data have you worked with?   \n",
       "1  {\"ImportId\":\"QID4_TEXT\"}                           {\"ImportId\":\"QID8\"}   \n",
       "2                       NaN                                           NaN   \n",
       "3                       NaN                                Questionnaires   \n",
       "4                       NaN                                          Text   \n",
       "5                       NaN  Reaction time,Text,Behavioral,Questionnaires   \n",
       "6                       NaN                Text,Behavioral,Questionnaires   \n",
       "7                       NaN  Reaction time,Text,Behavioral,Questionnaires   \n",
       "8                       NaN                     Behavioral,Questionnaires   \n",
       "9                       NaN                                           NaN   \n",
       "\n",
       "                                   Q9  \\\n",
       "0  Have you taken a statistics class?   \n",
       "1                 {\"ImportId\":\"QID9\"}   \n",
       "2                                 NaN   \n",
       "3                                 Yes   \n",
       "4                                 Yes   \n",
       "5                                 Yes   \n",
       "6                                 Yes   \n",
       "7                                 Yes   \n",
       "8                                 Yes   \n",
       "9                                  No   \n",
       "\n",
       "                                                 Q10                       Q11  \n",
       "0    What statistic topics are you comfortable with?  Do you enjoy statistics?  \n",
       "1                               {\"ImportId\":\"QID10\"}      {\"ImportId\":\"QID11\"}  \n",
       "2                                                NaN                       NaN  \n",
       "3                             Descriptive Statistics                I like it.  \n",
       "4                                        Probability                I like it.  \n",
       "5  Probability,Descriptive Statistics,Normal Dist...                I like it.  \n",
       "6  Normal Distribution,Confidence Interval,Hypoth...                I like it.  \n",
       "7  Probability,Descriptive Statistics,Normal Dist...                Hell yeah!  \n",
       "8         Descriptive Statistics,Normal Distribution                Hell yeah!  \n",
       "9                                                NaN               Don't care.  "
      ]
     },
     "execution_count": 4,
     "metadata": {},
     "output_type": "execute_result"
    }
   ],
   "source": [
    "data.head(10)"
   ]
  },
  {
   "cell_type": "markdown",
   "metadata": {},
   "source": [
    "# Data Cleaning\n",
    "\n",
    "## Get rid of useless variables "
   ]
  },
  {
   "cell_type": "code",
   "execution_count": 5,
   "metadata": {},
   "outputs": [
    {
     "data": {
      "text/plain": [
       "Index(['StartDate', 'EndDate', 'Status', 'IPAddress', 'Progress',\n",
       "       'Duration (in seconds)', 'Finished', 'RecordedDate', 'ResponseId',\n",
       "       'RecipientLastName', 'RecipientFirstName', 'RecipientEmail',\n",
       "       'ExternalReference', 'LocationLatitude', 'LocationLongitude',\n",
       "       'DistributionChannel', 'UserLanguage', 'Q5', 'Q6', 'Q6_5_TEXT', 'Q7',\n",
       "       'Q1', 'Q2', 'Q3', 'Q4', 'Q8', 'Q9', 'Q10', 'Q11'],\n",
       "      dtype='object')"
      ]
     },
     "execution_count": 5,
     "metadata": {},
     "output_type": "execute_result"
    }
   ],
   "source": [
    "data.columns"
   ]
  },
  {
   "cell_type": "code",
   "execution_count": 6,
   "metadata": {},
   "outputs": [],
   "source": [
    "data.drop(['StartDate', 'EndDate', 'Status', 'IPAddress', 'Progress',\n",
    "       'Duration (in seconds)', 'Finished', 'RecordedDate', 'ResponseId',\n",
    "       'RecipientLastName', 'RecipientFirstName', 'RecipientEmail',\n",
    "       'ExternalReference', 'LocationLatitude', 'LocationLongitude',\n",
    "       'DistributionChannel', 'UserLanguage'], axis = 1, inplace = True)"
   ]
  },
  {
   "cell_type": "markdown",
   "metadata": {},
   "source": [
    "## Give our variables more meaningful names"
   ]
  },
  {
   "cell_type": "code",
   "execution_count": 7,
   "metadata": {},
   "outputs": [],
   "source": [
    "data.columns = ['name', 'year', 'year_other', 'major', 'coding_experience', 'coding_level', 'language',\n",
    "                'language_other', 'data_type', 'stats', 'stats_topic', 'enjoyment']"
   ]
  },
  {
   "cell_type": "markdown",
   "metadata": {},
   "source": [
    "## Drop rows that are meaningless"
   ]
  },
  {
   "cell_type": "code",
   "execution_count": 8,
   "metadata": {},
   "outputs": [],
   "source": [
    "data.drop(data.index[0:2], axis = 0, inplace = True)"
   ]
  },
  {
   "cell_type": "markdown",
   "metadata": {},
   "source": [
    "## Missing values"
   ]
  },
  {
   "cell_type": "code",
   "execution_count": 10,
   "metadata": {},
   "outputs": [],
   "source": [
    "data.drop(data.index[0], axis = 0, inplace = True) #joker! "
   ]
  },
  {
   "cell_type": "code",
   "execution_count": 11,
   "metadata": {},
   "outputs": [],
   "source": [
    "data.fillna(\"NaN\", inplace = True)"
   ]
  },
  {
   "cell_type": "markdown",
   "metadata": {},
   "source": [
    "## Deal with text/multiple responses"
   ]
  },
  {
   "cell_type": "code",
   "execution_count": 57,
   "metadata": {},
   "outputs": [],
   "source": [
    "data_sub = data[['language', 'data_type', 'stats_topic']]"
   ]
  },
  {
   "cell_type": "code",
   "execution_count": 30,
   "metadata": {},
   "outputs": [],
   "source": [
    "language = data_sub['language'].str.split(',').apply(pd.Series, 1).stack()"
   ]
  },
  {
   "cell_type": "code",
   "execution_count": 35,
   "metadata": {},
   "outputs": [],
   "source": [
    "language = language.to_frame('language')"
   ]
  },
  {
   "cell_type": "code",
   "execution_count": 39,
   "metadata": {},
   "outputs": [],
   "source": [
    "data_type = data_sub['data_type'].str.split(',').apply(pd.Series, 1).stack()"
   ]
  },
  {
   "cell_type": "code",
   "execution_count": 40,
   "metadata": {},
   "outputs": [],
   "source": [
    "data_type = data_type.to_frame('data_type')"
   ]
  },
  {
   "cell_type": "code",
   "execution_count": 97,
   "metadata": {},
   "outputs": [],
   "source": [
    "stats_topic = data_sub['stats_topic'].str.split(',').apply(pd.Series, 1).stack()"
   ]
  },
  {
   "cell_type": "code",
   "execution_count": 98,
   "metadata": {},
   "outputs": [],
   "source": [
    "stats_topic.index = stats_topic.index.droplevel(-1)"
   ]
  },
  {
   "cell_type": "code",
   "execution_count": 99,
   "metadata": {},
   "outputs": [],
   "source": [
    "stats_topic = stats_topic.to_frame()"
   ]
  },
  {
   "cell_type": "code",
   "execution_count": 100,
   "metadata": {},
   "outputs": [],
   "source": [
    "stats_topic.reset_index(inplace = True)"
   ]
  },
  {
   "cell_type": "code",
   "execution_count": 101,
   "metadata": {},
   "outputs": [],
   "source": [
    "stats_topic.columns = ['id', 'topic']"
   ]
  },
  {
   "cell_type": "code",
   "execution_count": 102,
   "metadata": {},
   "outputs": [],
   "source": [
    "stats_topic = stats_topic.groupby('id')['topic'].nunique().reset_index(name = 'count')"
   ]
  },
  {
   "cell_type": "code",
   "execution_count": 103,
   "metadata": {},
   "outputs": [],
   "source": [
    "data.reset_index(inplace = True)"
   ]
  },
  {
   "cell_type": "code",
   "execution_count": 104,
   "metadata": {},
   "outputs": [],
   "source": [
    "stats_topic = pd.merge(stats_topic, data, left_on = 'id', right_on = 'index', how = 'inner')"
   ]
  },
  {
   "cell_type": "markdown",
   "metadata": {},
   "source": [
    "# Visualization"
   ]
  },
  {
   "cell_type": "code",
   "execution_count": 54,
   "metadata": {},
   "outputs": [
    {
     "data": {
      "text/plain": [
       "Text(0.5, 0, 'Language')"
      ]
     },
     "execution_count": 54,
     "metadata": {},
     "output_type": "execute_result"
    },
    {
     "data": {
      "image/png": "[encoded data removed]",
      "text/plain": [
       "<Figure size 432x288 with 1 Axes>"
      ]
     },
     "metadata": {
      "needs_background": "light"
     },
     "output_type": "display_data"
    }
   ],
   "source": [
    "sns.countplot(language['language'])\n",
    "plt.title('Language used by students')\n",
    "plt.ylabel('Number of students')\n",
    "plt.xlabel('Language')"
   ]
  },
  {
   "cell_type": "code",
   "execution_count": 55,
   "metadata": {},
   "outputs": [
    {
     "data": {
      "image/png": "[encoded data removed]",
      "text/plain": [
       "<Figure size 432x288 with 1 Axes>"
      ]
     },
     "metadata": {
      "needs_background": "light"
     },
     "output_type": "display_data"
    }
   ],
   "source": [
    "text = str(data_type['data_type'])\n",
    "wordcloud = WordCloud(max_font_size=50, max_words=100, background_color=\"black\").generate(text)\n",
    "plt.figure()\n",
    "plt.imshow(wordcloud, interpolation=\"bilinear\")\n",
    "plt.axis(\"off\")\n",
    "plt.show()"
   ]
  },
  {
   "cell_type": "code",
   "execution_count": null,
   "metadata": {},
   "outputs": [],
   "source": [
    "# y - enjoyment\n",
    "# x - coding\n",
    "# condition - stats\n"
   ]
  },
  {
   "cell_type": "markdown",
   "metadata": {},
   "source": [
    "# Hypothesis: Does coding experience have anything to do with which year you are?"
   ]
  },
  {
   "cell_type": "code",
   "execution_count": 53,
   "metadata": {},
   "outputs": [
    {
     "data": {
      "text/plain": [
       "SpearmanrResult(correlation=0.4472135954999579, pvalue=0.266569703380069)"
      ]
     },
     "execution_count": 53,
     "metadata": {},
     "output_type": "execute_result"
    }
   ],
   "source": [
    "x = data['coding_experience']\n",
    "y = data['year']\n",
    "ss.spearmanr(x, y, nan_policy = 'omit')"
   ]
  },
  {
   "cell_type": "markdown",
   "metadata": {},
   "source": [
    "# Hypothesis: Does stats knowledge have anything to do with which year you are?"
   ]
  },
  {
   "cell_type": "code",
   "execution_count": 106,
   "metadata": {},
   "outputs": [
    {
     "data": {
      "text/plain": [
       "SpearmanrResult(correlation=0.359092423229804, pvalue=0.3823426919711823)"
      ]
     },
     "execution_count": 106,
     "metadata": {},
     "output_type": "execute_result"
    }
   ],
   "source": [
    "x = stats_topic['count']\n",
    "y = stats_topic['year']\n",
    "ss.spearmanr(x, y, nan_policy = 'omit')"
   ]
  },
  {
   "cell_type": "code",
   "execution_count": null,
   "metadata": {},
   "outputs": [],
   "source": []
  }
 ],
 "metadata": {
  "kernelspec": {
   "display_name": "Python 3",
   "language": "python",
   "name": "python3"
  },
  "language_info": {
   "codemirror_mode": {
    "name": "ipython",
    "version": 3
   },
   "file_extension": ".py",
   "mimetype": "text/x-python",
   "name": "python",
   "nbconvert_exporter": "python",
   "pygments_lexer": "ipython3",
   "version": "3.6.3"
  }
 },
 "nbformat": 4,
 "nbformat_minor": 4
}
